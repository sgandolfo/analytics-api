{
 "cells": [
  {
   "cell_type": "code",
   "execution_count": 37,
   "id": "dd2559c1",
   "metadata": {},
   "outputs": [
    {
     "data": {
      "text/plain": [
       "'http://localhost:8002/api/events/4'"
      ]
     },
     "execution_count": 37,
     "metadata": {},
     "output_type": "execute_result"
    }
   ],
   "source": [
    "import requests\n",
    "path = \"/api/events/4\"\n",
    "base_url = \"http://localhost:8002\"\n",
    "endpoint = f\"{base_url}{path}\"\n",
    "endpoint"
   ]
  },
  {
   "cell_type": "code",
   "execution_count": 38,
   "id": "dbacf1f8",
   "metadata": {},
   "outputs": [],
   "source": [
    "response = requests.delete(endpoint)"
   ]
  },
  {
   "cell_type": "markdown",
   "id": "4fae0433",
   "metadata": {},
   "source": []
  },
  {
   "cell_type": "code",
   "execution_count": 39,
   "id": "5c95892a",
   "metadata": {},
   "outputs": [
    {
     "name": "stdout",
     "output_type": "stream",
     "text": [
      "{'description': 'I want to test this!', 'id': 4, 'page': '/test+'} <class 'dict'>\n"
     ]
    }
   ],
   "source": [
    "if response.ok:\n",
    "  data = response.json()\n",
    "  print(data, type(data))\n",
    "else:\n",
    "  print(response.text)"
   ]
  }
 ],
 "metadata": {
  "kernelspec": {
   "display_name": "venv",
   "language": "python",
   "name": "python3"
  },
  "language_info": {
   "codemirror_mode": {
    "name": "ipython",
    "version": 3
   },
   "file_extension": ".py",
   "mimetype": "text/x-python",
   "name": "python",
   "nbconvert_exporter": "python",
   "pygments_lexer": "ipython3",
   "version": "3.13.2"
  }
 },
 "nbformat": 4,
 "nbformat_minor": 5
}
