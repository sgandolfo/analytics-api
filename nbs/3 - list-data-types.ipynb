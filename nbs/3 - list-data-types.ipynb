{
 "cells": [
  {
   "cell_type": "code",
   "execution_count": 11,
   "id": "dd2559c1",
   "metadata": {},
   "outputs": [
    {
     "data": {
      "text/plain": [
       "'http://localhost:8002/api/events'"
      ]
     },
     "execution_count": 11,
     "metadata": {},
     "output_type": "execute_result"
    }
   ],
   "source": [
    "import requests\n",
    "from pprint import pprint\n",
    "path = \"/api/events\"\n",
    "base_url = \"http://localhost:8002\"\n",
    "endpoint = f\"{base_url}{path}\"\n",
    "endpoint"
   ]
  },
  {
   "cell_type": "code",
   "execution_count": 12,
   "id": "dbacf1f8",
   "metadata": {},
   "outputs": [],
   "source": [
    "response = requests.get(endpoint)"
   ]
  },
  {
   "cell_type": "code",
   "execution_count": 13,
   "id": "ae5f2a34",
   "metadata": {},
   "outputs": [
    {
     "name": "stdout",
     "output_type": "stream",
     "text": [
      "True\n"
     ]
    }
   ],
   "source": [
    "print(response.ok)"
   ]
  },
  {
   "cell_type": "code",
   "execution_count": 14,
   "id": "5c95892a",
   "metadata": {},
   "outputs": [
    {
     "name": "stdout",
     "output_type": "stream",
     "text": [
      "{'count': 3,\n",
      " 'results': [{'description': 'test123', 'id': 1, 'page': '/test+'},\n",
      "             {'description': 'test123', 'id': 2, 'page': '/test+'},\n",
      "             {'description': 'test123', 'id': 3, 'page': '/test+'}]}\n"
     ]
    }
   ],
   "source": [
    "if response.ok:\n",
    "  data = response.json()\n",
    "  pprint(data)"
   ]
  },
  {
   "cell_type": "code",
   "execution_count": 15,
   "id": "3def882c",
   "metadata": {},
   "outputs": [
    {
     "name": "stdout",
     "output_type": "stream",
     "text": [
      "http://localhost:8002/api/events/4\n",
      "ok 404\n"
     ]
    }
   ],
   "source": [
    "detail_path = \"/api/events/4\"\n",
    "detail_endpoint = f\"{base_url}{detail_path}\"\n",
    "print(detail_endpoint)\n",
    "detail_response = requests.get(detail_endpoint)\n",
    "print('ok', detail_response.status_code)\n",
    "if detail_response.ok:\n",
    "  data = detail_response.json()\n",
    "  pprint(data)"
   ]
  }
 ],
 "metadata": {
  "kernelspec": {
   "display_name": "venv",
   "language": "python",
   "name": "python3"
  },
  "language_info": {
   "codemirror_mode": {
    "name": "ipython",
    "version": 3
   },
   "file_extension": ".py",
   "mimetype": "text/x-python",
   "name": "python",
   "nbconvert_exporter": "python",
   "pygments_lexer": "ipython3",
   "version": "3.13.2"
  }
 },
 "nbformat": 4,
 "nbformat_minor": 5
}
