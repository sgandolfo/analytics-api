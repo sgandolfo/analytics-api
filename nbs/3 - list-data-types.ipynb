{
 "cells": [
  {
   "cell_type": "code",
   "execution_count": 1,
   "id": "dd2559c1",
   "metadata": {},
   "outputs": [
    {
     "data": {
      "text/plain": [
       "'http://localhost:8002/api/events'"
      ]
     },
     "execution_count": 1,
     "metadata": {},
     "output_type": "execute_result"
    }
   ],
   "source": [
    "import requests\n",
    "from pprint import pprint\n",
    "path = \"/api/events\"\n",
    "base_url = \"http://localhost:8002\"\n",
    "endpoint = f\"{base_url}{path}\"\n",
    "endpoint"
   ]
  },
  {
   "cell_type": "code",
   "execution_count": 2,
   "id": "dbacf1f8",
   "metadata": {},
   "outputs": [],
   "source": [
    "response = requests.get(endpoint, params={\"duration\": \"1 week\", \"pages\": [\"/about\", \"/services\"]})"
   ]
  },
  {
   "cell_type": "code",
   "execution_count": 3,
   "id": "ae5f2a34",
   "metadata": {},
   "outputs": [
    {
     "name": "stdout",
     "output_type": "stream",
     "text": [
      "True\n"
     ]
    }
   ],
   "source": [
    "print(response.ok)"
   ]
  },
  {
   "cell_type": "code",
   "execution_count": 4,
   "id": "5c95892a",
   "metadata": {},
   "outputs": [
    {
     "name": "stdout",
     "output_type": "stream",
     "text": [
      "[{'avg_duration': 2221.4634146341464,\n",
      "  'bucket': '2025-04-07T00:00:00Z',\n",
      "  'count': 41,\n",
      "  'operating_system': 'Android',\n",
      "  'page': '/about',\n",
      "  'ua': ''},\n",
      " {'avg_duration': 2445.1220472440946,\n",
      "  'bucket': '2025-04-07T00:00:00Z',\n",
      "  'count': 254,\n",
      "  'operating_system': 'Linux',\n",
      "  'page': '/about',\n",
      "  'ua': ''},\n",
      " {'avg_duration': 2351.090361445783,\n",
      "  'bucket': '2025-04-07T00:00:00Z',\n",
      "  'count': 166,\n",
      "  'operating_system': 'Mac',\n",
      "  'page': '/about',\n",
      "  'ua': ''},\n",
      " {'avg_duration': 2224.408163265306,\n",
      "  'bucket': '2025-04-07T00:00:00Z',\n",
      "  'count': 49,\n",
      "  'operating_system': 'Other',\n",
      "  'page': '/about',\n",
      "  'ua': ''},\n",
      " {'avg_duration': 2626.2782874617737,\n",
      "  'bucket': '2025-04-07T00:00:00Z',\n",
      "  'count': 327,\n",
      "  'operating_system': 'Windows',\n",
      "  'page': '/about',\n",
      "  'ua': ''},\n",
      " {'avg_duration': 2460.6974789915967,\n",
      "  'bucket': '2025-04-07T00:00:00Z',\n",
      "  'count': 119,\n",
      "  'operating_system': 'iPhone',\n",
      "  'page': '/about',\n",
      "  'ua': ''}]\n"
     ]
    }
   ],
   "source": [
    "if response.ok:\n",
    "  data = response.json()\n",
    "  pprint(data)"
   ]
  },
  {
   "cell_type": "code",
   "execution_count": 5,
   "id": "3def882c",
   "metadata": {},
   "outputs": [
    {
     "name": "stdout",
     "output_type": "stream",
     "text": [
      "http://localhost:8002/api/events/4\n",
      "ok 200\n",
      "{'duration': 3191,\n",
      " 'id': 4,\n",
      " 'ip_address': '135.177.197.220',\n",
      " 'page': '/dashboard',\n",
      " 'referrer': 'https://google.com',\n",
      " 'session_id': '0f8fe3de-2886-4360-94b0-471359c06cc4',\n",
      " 'time': '2025-04-09T18:51:45.368511Z',\n",
      " 'user_agent': 'Opera/9.30.(X11; Linux x86_64; tn-ZA) Presto/2.9.186 '\n",
      "               'Version/12.00'}\n"
     ]
    }
   ],
   "source": [
    "detail_path = \"/api/events/4\"\n",
    "detail_endpoint = f\"{base_url}{detail_path}\"\n",
    "print(detail_endpoint)\n",
    "detail_response = requests.get(detail_endpoint)\n",
    "print('ok', detail_response.status_code)\n",
    "if detail_response.ok:\n",
    "  data = detail_response.json()\n",
    "  pprint(data)"
   ]
  }
 ],
 "metadata": {
  "kernelspec": {
   "display_name": "venv",
   "language": "python",
   "name": "python3"
  },
  "language_info": {
   "codemirror_mode": {
    "name": "ipython",
    "version": 3
   },
   "file_extension": ".py",
   "mimetype": "text/x-python",
   "name": "python",
   "nbconvert_exporter": "python",
   "pygments_lexer": "ipython3",
   "version": "3.13.2"
  }
 },
 "nbformat": 4,
 "nbformat_minor": 5
}
